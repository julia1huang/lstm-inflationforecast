{
  "nbformat": 4,
  "nbformat_minor": 0,
  "metadata": {
    "colab": {
      "provenance": [],
      "gpuType": "T4",
      "mount_file_id": "1hCKkZrHGpUzkXJedtU_EPkcNfKldkG1K",
      "authorship_tag": "ABX9TyOP2jVimfnsywOupx3CmQOt"
    },
    "kernelspec": {
      "name": "python3",
      "display_name": "Python 3"
    },
    "language_info": {
      "name": "python"
    },
    "accelerator": "GPU"
  },
  "cells": [
    {
      "cell_type": "markdown",
      "source": [
        "# Forecasting Inflation with Recurrent Neural Network"
      ],
      "metadata": {
        "id": "yjSG-xKHxpoq"
      }
    },
    {
      "cell_type": "markdown",
      "source": [
        "## Introduction"
      ],
      "metadata": {
        "id": "a5RLXzy_xs7L"
      }
    },
    {
      "cell_type": "markdown",
      "source": [
        "Using an Inflation dataset extracted from Bloomberg from September-9-1951 to September-9-2023 to train the LSTM model to forecast inflation.\n",
        "\n",
        "The project requires Pandas and Numpy for data manipulation, Matplotlib.pyplot for data visualization, scikit-learn for scaling and evaluation, and TensorFlow for modeling. We will also set seeds for reproducibility."
      ],
      "metadata": {
        "id": "umbHRT5oxzfQ"
      }
    },
    {
      "cell_type": "markdown",
      "source": [
        "### What is a Recurrent Neural Network (RNN)?\n",
        "\n",
        "A Recurrent Neural Network (RNN) is a type of artificial neural network designed to recognize patterns in sequences of data, such as text, genomes, handwriting, or numerical time series data emanating from stocks, sensors, or auctions. Unlike traditional neural networks, RNNs have loops within them, allowing information to persist. This memory-like feature makes RNNs particularly suitable for tasks where the context or sequence of the data is important.\n",
        "\n",
        "### How RNNs are Useful for Predicting Stock Prices and Inflation\n",
        "\n",
        "#### Predicting Stock Prices\n",
        "\n",
        "Stock prices are influenced by a myriad of factors including economic indicators, company performance, and market sentiment. These factors do not exist in isolation; they are part of a complex, dynamic system that evolves over time. RNNs, with their ability to process sequences of data, can capture these temporal dependencies. By training on historical stock price data and associated factors, RNNs can learn to predict future stock prices. The predictions can be based on patterns that the network has identified in the data, which might not be immediately apparent to human analysts.\n",
        "\n",
        "#### Predicting Inflation\n",
        "\n",
        "Inflation is another complex, dynamic process influenced by various factors such as supply and demand, money supply, and fiscal policy. Like stock prices, inflation rates follow a temporal sequence and are affected by past and present economic conditions. RNNs can be trained on historical inflation data along with other relevant economic indicators to forecast future inflation rates. By capturing the relationships and patterns within the data, RNNs can provide valuable insights for economists and policymakers.\n",
        "\n",
        "#### Advantages for Economic Forecasting\n",
        "\n",
        "1. **Handling Sequential Data**: RNNs are inherently designed to handle sequential information, making them ideal for financial time series data which is sequential in nature.\n",
        "2. **Learning Temporal Dependencies**: RNNs can learn and remember the dependencies across different time periods, which is crucial for accurate predictions in economics and finance.\n",
        "3. **Flexibility**: RNNs can be trained with a variety of input data types, allowing for the integration of diverse economic indicators in forecasting models.\n",
        "4. **Adaptability**: RNN models can be updated with new data, making them adaptable to changing economic conditions and improving their predictive accuracy over time.\n",
        "\n",
        "RNNs offer a powerful tool for financial forecasting, including stock price prediction and inflation forecasting, by leveraging their unique ability to process and learn from sequential data."
      ],
      "metadata": {
        "id": "B1ve_BFHx3bW"
      }
    },
    {
      "cell_type": "markdown",
      "source": [
        "\n",
        "\n",
        "\n",
        "## 1. Loading Packages and Data\n"
      ],
      "metadata": {
        "id": "vL-a4QYcx79h"
      }
    },
    {
      "cell_type": "code",
      "source": [
        "# Importing the libraries\n",
        "import numpy as np\n",
        "import pandas as pd\n",
        "import matplotlib.pyplot as plt\n",
        "\n",
        "from sklearn.preprocessing import MinMaxScaler\n",
        "from sklearn.metrics import mean_squared_error\n",
        "\n",
        "from tensorflow.keras.models import Sequential\n",
        "from tensorflow.keras.layers import Dense, LSTM, Dropout, GRU, Bidirectional\n",
        "from tensorflow.keras.optimizers import SGD\n",
        "from tensorflow.random import set_seed\n",
        "\n",
        "set_seed(455)\n",
        "np.random.seed(455)"
      ],
      "metadata": {
        "id": "wS9Y1XZIx-no"
      },
      "execution_count": null,
      "outputs": []
    },
    {
      "cell_type": "code",
      "source": [
        "from google.colab import drive\n",
        "drive.mount('/content/drive')"
      ],
      "metadata": {
        "colab": {
          "base_uri": "https://localhost:8080/"
        },
        "id": "-lB0CpnUJjuD",
        "outputId": "e7d0ac4d-a847-433d-e265-bd791692ea0c"
      },
      "execution_count": null,
      "outputs": [
        {
          "output_type": "stream",
          "name": "stdout",
          "text": [
            "Drive already mounted at /content/drive; to attempt to forcibly remount, call drive.mount(\"/content/drive\", force_remount=True).\n"
          ]
        }
      ]
    },
    {
      "cell_type": "markdown",
      "source": [
        "## 2. Data Analysis"
      ],
      "metadata": {
        "id": "cyHFIaJCxhRm"
      }
    },
    {
      "cell_type": "markdown",
      "source": [
        "\n",
        "In this part, we will import the inflation dataset. We will also drop irrelevant columns from the dataset as we are only interested in inflation and the date.\n",
        "\n",
        "This data is one-year-ahead change in September year-over-year CPI inflation. For example, the last data point represents that comparing to Sep 2022, the year-over-year CPI inflation as of Sep 2022 dropped 4.5% (from 8.2% to 3.7%)."
      ],
      "metadata": {
        "id": "CuIcMko9yIOE"
      }
    },
    {
      "cell_type": "code",
      "source": [
        "df = pd.read_csv(\"/content/drive/My Drive/inflationData.USannual.csv\")\n",
        "df.drop(df.iloc[:,2:11], inplace=True, axis=1)\n",
        "df.drop(df.iloc[:,3:9], inplace=True, axis=1)\n",
        "df.drop(df.columns[0], axis=1, inplace=True)\n",
        "df=df.set_index('CurrentDate')\n",
        "print(df)\n"
      ],
      "metadata": {
        "colab": {
          "base_uri": "https://localhost:8080/"
        },
        "id": "k7iX2uEwxlD4",
        "outputId": "625fcf40-ed2e-47b4-98e0-c78b87b396ff"
      },
      "execution_count": null,
      "outputs": [
        {
          "output_type": "stream",
          "name": "stdout",
          "text": [
            "               Y  GDPYOY      M2YOY   avgRate\n",
            "CurrentDate                                  \n",
            "1951        -4.7     7.3        NaN       NaN\n",
            "1952        -1.6     2.2        NaN       NaN\n",
            "1953        -1.1     5.4        NaN       NaN\n",
            "1954         0.8    -0.8        NaN       NaN\n",
            "1955         1.5     8.0        NaN       NaN\n",
            "...          ...     ...        ...       ...\n",
            "2018        -0.6     3.2   3.608424  2.031600\n",
            "2019        -0.3     2.3   5.594917  2.050300\n",
            "2020         4.0    -2.0  23.781824  0.197367\n",
            "2021         2.8     5.0  12.849015 -1.832000\n",
            "2022        -4.5     1.9   2.675978  2.188167\n",
            "\n",
            "[72 rows x 4 columns]\n"
          ]
        }
      ]
    },
    {
      "cell_type": "code",
      "source": [
        "# Check columns to make sure you have features and a target variable\n",
        "df.info()"
      ],
      "metadata": {
        "id": "rIK66cR5yKxK",
        "colab": {
          "base_uri": "https://localhost:8080/"
        },
        "outputId": "fa8317b1-8024-4025-ee2a-43124941287e"
      },
      "execution_count": null,
      "outputs": [
        {
          "output_type": "stream",
          "name": "stdout",
          "text": [
            "<class 'pandas.core.frame.DataFrame'>\n",
            "Index: 72 entries, 1951 to 2022\n",
            "Data columns (total 1 columns):\n",
            " #   Column  Non-Null Count  Dtype  \n",
            "---  ------  --------------  -----  \n",
            " 0   Y       72 non-null     float64\n",
            "dtypes: float64(1)\n",
            "memory usage: 1.1 KB\n"
          ]
        }
      ]
    },
    {
      "cell_type": "code",
      "source": [
        "# Check if there are any null values\n",
        "print(df.isnull().sum())"
      ],
      "metadata": {
        "id": "XddJLoxRyL61",
        "colab": {
          "base_uri": "https://localhost:8080/"
        },
        "outputId": "0989e004-aa11-4965-cbaf-ad27a47d3698"
      },
      "execution_count": null,
      "outputs": [
        {
          "output_type": "stream",
          "name": "stdout",
          "text": [
            "Y    0\n",
            "dtype: int64\n"
          ]
        }
      ]
    },
    {
      "cell_type": "code",
      "source": [
        "tstart = 1951\n",
        "tend = 2011\n",
        "\n",
        "def train_test_plot(df, tstart, tend):\n",
        "    df.loc[f\"{tstart}\":f\"{tend}\", \"Y\"].plot(figsize=(16, 4), legend=True)\n",
        "    df.loc[f\"{tend+1}\":, \"Y\"].plot(figsize=(16, 4), legend=True)\n",
        "    plt.legend([f\"Train (Before {tend+1})\", f\"Test ({tend+1} and beyond)\"])\n",
        "    plt.title(\"Inflation\")\n",
        "    plt.show()\n",
        "\n",
        "train_test_plot(df,tstart,tend)"
      ],
      "metadata": {
        "id": "nDJIMz9_yOby",
        "colab": {
          "base_uri": "https://localhost:8080/",
          "height": 348
        },
        "outputId": "145c074c-9ddf-41d1-d2c3-2e30adcabff1"
      },
      "execution_count": null,
      "outputs": [
        {
          "output_type": "display_data",
          "data": {
            "text/plain": [
              "<Figure size 1600x400 with 1 Axes>"
            ],
            "image/png": "[encoded data removed]"
          },
          "metadata": {}
        }
      ]
    },
    {
      "cell_type": "code",
      "source": [
        "## 3. Data Preprocessing"
      ],
      "metadata": {
        "id": "vJl8XvriyPum"
      },
      "execution_count": null,
      "outputs": []
    },
    {
      "cell_type": "markdown",
      "source": [
        "The train_test_split function divides the dataset into two subsets: training_set and test_set."
      ],
      "metadata": {
        "id": "NwItxVy6yU1i"
      }
    },
    {
      "cell_type": "code",
      "source": [
        "def train_test_split(df, tstart, tend):\n",
        "    train = df.loc[f\"{tstart}\":f\"{tend}\", \"Y\"].values\n",
        "    test = df.loc[f\"{tend+1}\":, \"Y\"].values\n",
        "    return train, test\n",
        "training_set, test_set = train_test_split(df, tstart, tend)"
      ],
      "metadata": {
        "id": "GqtxgpbtyTBd"
      },
      "execution_count": null,
      "outputs": []
    },
    {
      "cell_type": "markdown",
      "source": [
        "We will use the MinMaxScaler function to standardize our training set, which will help us avoid the outliers or anomalies."
      ],
      "metadata": {
        "id": "J2i9fZkeyZkC"
      }
    },
    {
      "cell_type": "code",
      "source": [
        "sc = MinMaxScaler(feature_range=(0, 1))\n",
        "training_set = training_set.reshape(-1, 1)\n",
        "training_set_scaled = sc.fit_transform(training_set)"
      ],
      "metadata": {
        "id": "LFE2LYVGyViZ"
      },
      "execution_count": null,
      "outputs": []
    },
    {
      "cell_type": "markdown",
      "source": [
        "The split_sequence function uses a training dataset and converts it into inputs (X_train) and outputs (y_train)."
      ],
      "metadata": {
        "id": "1Nx2wGgyybpS"
      }
    },
    {
      "cell_type": "code",
      "source": [
        "def split_sequence(sequence, n_steps):\n",
        "    X, y = list(), list()\n",
        "    for i in range(len(sequence)):\n",
        "        end_ix = i + n_steps\n",
        "        if end_ix > len(sequence) - 1:\n",
        "            break\n",
        "        seq_x, seq_y = sequence[i:end_ix], sequence[end_ix]\n",
        "        X.append(seq_x)\n",
        "        y.append(seq_y)\n",
        "    return np.array(X), np.array(y)\n",
        "\n",
        "\n",
        "n_steps = 10\n",
        "features = 1\n",
        "# split into samples\n",
        "X_train, y_train = split_sequence(training_set_scaled, n_steps)\n",
        "\n",
        "print(X_train)\n"
      ],
      "metadata": {
        "id": "XOhToQbZyOQ9",
        "colab": {
          "base_uri": "https://localhost:8080/",
          "height": 211
        },
        "outputId": "68192370-6759-40c9-f6d4-a5c047fac535"
      },
      "execution_count": null,
      "outputs": [
        {
          "output_type": "error",
          "ename": "NameError",
          "evalue": "name 'training_set_scaled' is not defined",
          "traceback": [
            "\u001b[0;31m---------------------------------------------------------------------------\u001b[0m",
            "\u001b[0;31mNameError\u001b[0m                                 Traceback (most recent call last)",
            "\u001b[0;32m<ipython-input-1-75d828262e47>\u001b[0m in \u001b[0;36m<cell line: 16>\u001b[0;34m()\u001b[0m\n\u001b[1;32m     14\u001b[0m \u001b[0mfeatures\u001b[0m \u001b[0;34m=\u001b[0m \u001b[0;36m1\u001b[0m\u001b[0;34m\u001b[0m\u001b[0;34m\u001b[0m\u001b[0m\n\u001b[1;32m     15\u001b[0m \u001b[0;31m# split into samples\u001b[0m\u001b[0;34m\u001b[0m\u001b[0;34m\u001b[0m\u001b[0m\n\u001b[0;32m---> 16\u001b[0;31m \u001b[0mX_train\u001b[0m\u001b[0;34m,\u001b[0m \u001b[0my_train\u001b[0m \u001b[0;34m=\u001b[0m \u001b[0msplit_sequence\u001b[0m\u001b[0;34m(\u001b[0m\u001b[0mtraining_set_scaled\u001b[0m\u001b[0;34m,\u001b[0m \u001b[0mn_steps\u001b[0m\u001b[0;34m)\u001b[0m\u001b[0;34m\u001b[0m\u001b[0;34m\u001b[0m\u001b[0m\n\u001b[0m\u001b[1;32m     17\u001b[0m \u001b[0;34m\u001b[0m\u001b[0m\n\u001b[1;32m     18\u001b[0m \u001b[0mprint\u001b[0m\u001b[0;34m(\u001b[0m\u001b[0mX_train\u001b[0m\u001b[0;34m)\u001b[0m\u001b[0;34m\u001b[0m\u001b[0;34m\u001b[0m\u001b[0m\n",
            "\u001b[0;31mNameError\u001b[0m: name 'training_set_scaled' is not defined"
          ]
        }
      ]
    },
    {
      "cell_type": "markdown",
      "source": [
        "We are working with univariate series, so the number of features is one, and we need to reshape the X_train to fit on the LSTM model. The X_train has [samples, timesteps], and we will reshape it to [samples, timesteps, features]."
      ],
      "metadata": {
        "id": "tVH7F8yKyfBP"
      }
    },
    {
      "cell_type": "code",
      "source": [
        "# Reshaping X_train for model\n",
        "# Assuming 'features' is a predefined variable representing the number of features\n",
        "# Adjusted to handle cases where X_train originally has less than 2 dimensions\n",
        "if len(X_train.shape) < 2:\n",
        "    # If X_train has only one dimension, reshape it accordingly\n",
        "    X_train = X_train.reshape(X_train.shape[0], 1, features)\n",
        "else:\n",
        "    # If X_train has two or more dimensions, use the original reshape logic\n",
        "    X_train = X_train.reshape(X_train.shape[0], X_train.shape[1], features)"
      ],
      "metadata": {
        "id": "gBKBQm9ryg1W"
      },
      "execution_count": null,
      "outputs": []
    },
    {
      "cell_type": "markdown",
      "source": [
        "The model consists of a single hidden layer of LSTM and an output layer. For this experiment, we will set LSTM units to 125, tanh as activation, and set input size.\n",
        "\n",
        "Tensorflow library is user-friendly, so we don't have to create LSTM or GRU models from scratch. We will simply use the LSTM to construct the model.\n",
        "\n",
        "Finally, we will compile the model with an RMSprop optimizer and mean square error as a loss function.\n",
        "\n",
        "## Why LSTM?\n",
        "\n",
        "The Long Short Term Memory (LSTM) is the advanced type of RNN, which was designed to prevent both decaying and exploding gradient problems. Just like RNN, LSTM has repeating modules, but the structure is different. Instead of having a single layer of tanh, LSTM has four interacting layers that communicate with each other. This four-layered structure helps LSTM retain long-term memory and can be used in stock prediction. The LSTM has the ability to triage the impact patterns from different categories of events and take inputs with different lengths, which is useful when LSTM is used to build general forecasting models for specific customers or industries.\n",
        "\n",
        "Therefore, I decided to try to use the RNN LSTM model to forecast inflation."
      ],
      "metadata": {
        "id": "5UdskkkfyiT-"
      }
    },
    {
      "cell_type": "markdown",
      "source": [
        "## 4. Model Training"
      ],
      "metadata": {
        "id": "CHepLSinyk_w"
      }
    },
    {
      "cell_type": "code",
      "source": [
        "# The LSTM architecture\n",
        "model_lstm = Sequential()\n",
        "model_lstm.add(LSTM(units=125, activation=\"tanh\", input_shape=(n_steps, features)))\n",
        "model_lstm.add(Dense(units=1))\n",
        "# Compiling the model\n",
        "model_lstm.compile(optimizer=\"RMSprop\", loss=\"mse\")\n",
        "\n",
        "model_lstm.summary()"
      ],
      "metadata": {
        "colab": {
          "base_uri": "https://localhost:8080/"
        },
        "id": "Fknz1_ezym18",
        "outputId": "1a70cc1f-7a1c-4eb5-e239-d0d56e30a3a6"
      },
      "execution_count": null,
      "outputs": [
        {
          "output_type": "stream",
          "name": "stdout",
          "text": [
            "Model: \"sequential_2\"\n",
            "_________________________________________________________________\n",
            " Layer (type)                Output Shape              Param #   \n",
            "=================================================================\n",
            " lstm_1 (LSTM)               (None, 125)               63500     \n",
            "                                                                 \n",
            " dense_1 (Dense)             (None, 1)                 126       \n",
            "                                                                 \n",
            "=================================================================\n",
            "Total params: 63626 (248.54 KB)\n",
            "Trainable params: 63626 (248.54 KB)\n",
            "Non-trainable params: 0 (0.00 Byte)\n",
            "_________________________________________________________________\n"
          ]
        }
      ]
    },
    {
      "cell_type": "code",
      "source": [
        "model_lstm.fit(X_train, y_train, epochs=50, batch_size=32)"
      ],
      "metadata": {
        "colab": {
          "base_uri": "https://localhost:8080/"
        },
        "id": "CJMPI9YLypoM",
        "outputId": "d9554137-4db8-482d-c774-c89ce7b2f2d8"
      },
      "execution_count": null,
      "outputs": [
        {
          "output_type": "stream",
          "name": "stdout",
          "text": [
            "Epoch 1/50\n",
            "2/2 [==============================] - 2s 16ms/step - loss: 0.3054\n",
            "Epoch 2/50\n",
            "2/2 [==============================] - 0s 10ms/step - loss: 0.0824\n",
            "Epoch 3/50\n",
            "2/2 [==============================] - 0s 10ms/step - loss: 0.0440\n",
            "Epoch 4/50\n",
            "2/2 [==============================] - 0s 11ms/step - loss: 0.0437\n",
            "Epoch 5/50\n",
            "2/2 [==============================] - 0s 9ms/step - loss: 0.0470\n",
            "Epoch 6/50\n",
            "2/2 [==============================] - 0s 9ms/step - loss: 0.0438\n",
            "Epoch 7/50\n",
            "2/2 [==============================] - 0s 9ms/step - loss: 0.0482\n",
            "Epoch 8/50\n",
            "2/2 [==============================] - 0s 8ms/step - loss: 0.0435\n",
            "Epoch 9/50\n",
            "2/2 [==============================] - 0s 9ms/step - loss: 0.0444\n",
            "Epoch 10/50\n",
            "2/2 [==============================] - 0s 9ms/step - loss: 0.0434\n",
            "Epoch 11/50\n",
            "2/2 [==============================] - 0s 9ms/step - loss: 0.0439\n",
            "Epoch 12/50\n",
            "2/2 [==============================] - 0s 12ms/step - loss: 0.0608\n",
            "Epoch 13/50\n",
            "2/2 [==============================] - 0s 8ms/step - loss: 0.0461\n",
            "Epoch 14/50\n",
            "2/2 [==============================] - 0s 8ms/step - loss: 0.0454\n",
            "Epoch 15/50\n",
            "2/2 [==============================] - 0s 9ms/step - loss: 0.0435\n",
            "Epoch 16/50\n",
            "2/2 [==============================] - 0s 8ms/step - loss: 0.0435\n",
            "Epoch 17/50\n",
            "2/2 [==============================] - 0s 8ms/step - loss: 0.0434\n",
            "Epoch 18/50\n",
            "2/2 [==============================] - 0s 13ms/step - loss: 0.0460\n",
            "Epoch 19/50\n",
            "2/2 [==============================] - 0s 9ms/step - loss: 0.0447\n",
            "Epoch 20/50\n",
            "2/2 [==============================] - 0s 10ms/step - loss: 0.0434\n",
            "Epoch 21/50\n",
            "2/2 [==============================] - 0s 12ms/step - loss: 0.0466\n",
            "Epoch 22/50\n",
            "2/2 [==============================] - 0s 9ms/step - loss: 0.0438\n",
            "Epoch 23/50\n",
            "2/2 [==============================] - 0s 8ms/step - loss: 0.0460\n",
            "Epoch 24/50\n",
            "2/2 [==============================] - 0s 8ms/step - loss: 0.0511\n",
            "Epoch 25/50\n",
            "2/2 [==============================] - 0s 8ms/step - loss: 0.0527\n",
            "Epoch 26/50\n",
            "2/2 [==============================] - 0s 8ms/step - loss: 0.0429\n",
            "Epoch 27/50\n",
            "2/2 [==============================] - 0s 10ms/step - loss: 0.0431\n",
            "Epoch 28/50\n",
            "2/2 [==============================] - 0s 9ms/step - loss: 0.0457\n",
            "Epoch 29/50\n",
            "2/2 [==============================] - 0s 13ms/step - loss: 0.0431\n",
            "Epoch 30/50\n",
            "2/2 [==============================] - 0s 8ms/step - loss: 0.0427\n",
            "Epoch 31/50\n",
            "2/2 [==============================] - 0s 10ms/step - loss: 0.0451\n",
            "Epoch 32/50\n",
            "2/2 [==============================] - 0s 9ms/step - loss: 0.0430\n",
            "Epoch 33/50\n",
            "2/2 [==============================] - 0s 10ms/step - loss: 0.0439\n",
            "Epoch 34/50\n",
            "2/2 [==============================] - 0s 8ms/step - loss: 0.0540\n",
            "Epoch 35/50\n",
            "2/2 [==============================] - 0s 9ms/step - loss: 0.0440\n",
            "Epoch 36/50\n",
            "2/2 [==============================] - 0s 9ms/step - loss: 0.0450\n",
            "Epoch 37/50\n",
            "2/2 [==============================] - 0s 11ms/step - loss: 0.0447\n",
            "Epoch 38/50\n",
            "2/2 [==============================] - 0s 11ms/step - loss: 0.0455\n",
            "Epoch 39/50\n",
            "2/2 [==============================] - 0s 9ms/step - loss: 0.0434\n",
            "Epoch 40/50\n",
            "2/2 [==============================] - 0s 8ms/step - loss: 0.0450\n",
            "Epoch 41/50\n",
            "2/2 [==============================] - 0s 8ms/step - loss: 0.0530\n",
            "Epoch 42/50\n",
            "2/2 [==============================] - 0s 9ms/step - loss: 0.0427\n",
            "Epoch 43/50\n",
            "2/2 [==============================] - 0s 10ms/step - loss: 0.0433\n",
            "Epoch 44/50\n",
            "2/2 [==============================] - 0s 10ms/step - loss: 0.0475\n",
            "Epoch 45/50\n",
            "2/2 [==============================] - 0s 13ms/step - loss: 0.0452\n",
            "Epoch 46/50\n",
            "2/2 [==============================] - 0s 11ms/step - loss: 0.0510\n",
            "Epoch 47/50\n",
            "2/2 [==============================] - 0s 11ms/step - loss: 0.0478\n",
            "Epoch 48/50\n",
            "2/2 [==============================] - 0s 12ms/step - loss: 0.0430\n",
            "Epoch 49/50\n",
            "2/2 [==============================] - 0s 13ms/step - loss: 0.0437\n",
            "Epoch 50/50\n",
            "2/2 [==============================] - 0s 11ms/step - loss: 0.0423\n"
          ]
        },
        {
          "output_type": "execute_result",
          "data": {
            "text/plain": [
              "<keras.src.callbacks.History at 0x7a70ed47d780>"
            ]
          },
          "metadata": {},
          "execution_count": 42
        }
      ]
    },
    {
      "cell_type": "code",
      "source": [
        "X_test.shape"
      ],
      "metadata": {
        "colab": {
          "base_uri": "https://localhost:8080/"
        },
        "id": "-xx8h6ZE0isJ",
        "outputId": "58dbe9e9-810a-4247-a1cd-e21278ad2154"
      },
      "execution_count": null,
      "outputs": [
        {
          "output_type": "execute_result",
          "data": {
            "text/plain": [
              "(0,)"
            ]
          },
          "metadata": {},
          "execution_count": 44
        }
      ]
    },
    {
      "cell_type": "code",
      "source": [
        "inputs = df[len(df) - len(test_set) - n_steps :].values\n",
        "inputs = inputs.reshape(-1, 1)\n",
        "#scaling\n",
        "inputs = sc.transform(inputs)\n",
        "\n",
        "# Split into samples\n",
        "X_test, y_test = split_sequence(inputs, n_steps)\n",
        "# reshape\n",
        "X_test = X_test.reshape(X_test.shape[0], X_test.shape[1], features)\n",
        "#prediction\n",
        "predicted_inflation = model_lstm.predict(X_test)\n",
        "#inverse transform the values\n",
        "predicted_inflation = sc.inverse_transform(predicted_inflation)"
      ],
      "metadata": {
        "colab": {
          "base_uri": "https://localhost:8080/"
        },
        "id": "Evor-H_dy1fh",
        "outputId": "4b9637a1-9c06-41ab-d321-c607cc31aea7"
      },
      "execution_count": null,
      "outputs": [
        {
          "output_type": "stream",
          "name": "stdout",
          "text": [
            "1/1 [==============================] - 0s 358ms/step\n"
          ]
        }
      ]
    },
    {
      "cell_type": "code",
      "source": [
        "def plot_predictions(test, predicted):\n",
        "    plt.plot(test, color=\"gray\", label=\"Real\")\n",
        "    plt.plot(predicted, color=\"red\", label=\"Predicted\")\n",
        "    plt.title(\"Inflation Prediction\")\n",
        "    plt.xlabel(\"Time\")\n",
        "    plt.ylabel(\"Inflation\")\n",
        "    plt.legend()\n",
        "    plt.show()\n",
        "\n",
        "\n",
        "def return_rmse(test, predicted):\n",
        "    rmse = np.sqrt(mean_squared_error(test, predicted))\n",
        "    print(\"The root mean squared error is {:.2f}.\".format(rmse))"
      ],
      "metadata": {
        "id": "L4KaVVMAy3JV"
      },
      "execution_count": null,
      "outputs": []
    },
    {
      "cell_type": "code",
      "source": [
        "plot_predictions(test_set,predicted_inflation)"
      ],
      "metadata": {
        "colab": {
          "base_uri": "https://localhost:8080/",
          "height": 472
        },
        "id": "942FtMNcy7Hq",
        "outputId": "fb4e8976-d4f8-48d3-b80c-857d1dbe499b"
      },
      "execution_count": null,
      "outputs": [
        {
          "output_type": "display_data",
          "data": {
            "text/plain": [
              "<Figure size 640x480 with 1 Axes>"
            ],
            "image/png": "[encoded data removed]"
          },
          "metadata": {}
        }
      ]
    },
    {
      "cell_type": "code",
      "source": [
        "return_rmse(test_set,predicted_inflation)"
      ],
      "metadata": {
        "colab": {
          "base_uri": "https://localhost:8080/"
        },
        "id": "7RVpl4Jfy83g",
        "outputId": "3a58b18e-74bb-4f95-fe2a-f43478de154d"
      },
      "execution_count": null,
      "outputs": [
        {
          "output_type": "stream",
          "name": "stdout",
          "text": [
            "The root mean squared error is 2.20.\n"
          ]
        }
      ]
    },
    {
      "cell_type": "code",
      "source": [
        "print(predicted_inflation)"
      ],
      "metadata": {
        "colab": {
          "base_uri": "https://localhost:8080/"
        },
        "id": "LfIGv2WdyRsn",
        "outputId": "bc0a8994-5464-48ac-faee-d5d54b0da1ac"
      },
      "execution_count": null,
      "outputs": [
        {
          "output_type": "stream",
          "name": "stdout",
          "text": [
            "[[ 0.08311638]\n",
            " [ 0.0269665 ]\n",
            " [-0.02005371]\n",
            " [-0.13882683]\n",
            " [-0.04880437]\n",
            " [-0.0674891 ]\n",
            " [-0.12811422]\n",
            " [ 0.24966037]\n",
            " [ 0.10078515]\n",
            " [-0.06504581]\n",
            " [ 0.1915806 ]]\n"
          ]
        }
      ]
    },
    {
      "cell_type": "code",
      "source": [
        "rw_prediction=np.zeros(predicted_inflation.size)\n",
        "return_rmse(test_set,rw_prediction)\n",
        "\n"
      ],
      "metadata": {
        "id": "WEsR-jeCyFxG",
        "colab": {
          "base_uri": "https://localhost:8080/"
        },
        "outputId": "8ae0ef93-a8ba-455a-d143-05a881220c55"
      },
      "execution_count": null,
      "outputs": [
        {
          "output_type": "stream",
          "name": "stdout",
          "text": [
            "The root mean squared error is 2.15.\n"
          ]
        }
      ]
    },
    {
      "cell_type": "markdown",
      "source": [
        "Unfortunately, a Recurrent Neural Network (RNN) using Long Short Term Memory (LSTM) is not as effective in predicting inflation. It is suggested to use Random Forrest or Regression instead (https://app.datacamp.com/workspace/w/f7917c05-f30d-449d-a0aa-c8396a32417c/edit).\n",
        "\n",
        "While long short-term memory (LSTM) recurrent neural networks (RNNs) can be effective in many prediction tasks, there are several reasons why they may not be well-suited for predicting inflation.\n",
        "\n",
        "LSTM models are often considered \"black box\" models, meaning it can be challenging to interpret the factors or variables that contribute to their predictions. In the case of inflation, it is important to understand the economic factors and indicators that drive inflation rates. LSTM models may not provide insights into the underlying economic dynamics affecting inflation.\n",
        "\n",
        "Inflation is influenced by a complex interplay of various macroeconomic factors, such as fiscal policy, monetary policy, labor market conditions, and supply and demand dynamics. LSTM models, while powerful in capturing short-term dependencies, may struggle to effectively incorporate and model these macroeconomic factors that drive inflation over longer time horizons.\n",
        "\n",
        "LSTM models typically require a significant amount of historical data to learn and generalize patterns effectively. However, inflation data may be relatively scarce, especially for long-term historical periods. Limited data availability can hinder the training and performance of LSTM models, particularly when trying to capture long-term inflation trends.\n",
        "\n",
        "Inflation is influenced by both linear and non-linear relationships among various economic factors. LSTM models can capture some non-linear patterns, but their effectiveness may vary depending on the complexity and nature of the relationships involved. In some cases, alternative modeling techniques, such as econometric models or time series analysis, may be more suitable for capturing non-linear relationships in inflation data.\n",
        "\n",
        "Inflation dynamics can undergo structural changes over time, such as changes in monetary policy regimes or shifts in economic conditions. LSTM models may struggle to adapt to such structural changes, especially if the training data does not adequately represent these shifts. Incorporating regime-dependent models or explicitly accounting for regime shifts might be necessary to improve inflation predictions.\n",
        "\n",
        "It's important to note that while LSTM models may have limitations in predicting inflation, they can still be useful in certain contexts or when combined with other modeling approaches. The suitability of a particular technique depends on the specific characteristics of the data, the availability of relevant features, and the problem's complexity."
      ],
      "metadata": {
        "id": "XkALNbz6y-g3"
      }
    },
    {
      "cell_type": "markdown",
      "source": [
        "# Future Research"
      ],
      "metadata": {
        "id": "XT0MV-rQy_r9"
      }
    },
    {
      "cell_type": "markdown",
      "source": [
        "Attempting a GRU model (another type of Reurrent Neural Network) is a possible point for future research. A \"GRU\" model, short for \"Gated Recurrent Unit,\" is a type of recurrent neural network (RNN) architecture. It was introduced by Kyunghyun Cho et al. in 2014 as a variation of the traditional RNN model.\n",
        "\n",
        "Like other RNNs, the GRU model is designed to process sequential data, such as time series or language sequences, by maintaining an internal hidden state that captures information from previous steps. However, the GRU introduces gating mechanisms that allow it to selectively update and reset its hidden state, enabling more effective information flow and addressing some of the limitations of traditional RNNs.\n",
        "\n",
        "The main components of a GRU unit are an update gate and a reset gate. The update gate determines the extent to which the previous hidden state is combined with the current input, while the reset gate controls how much of the previous hidden state is forgotten. These gates are trained during the learning process and help the GRU model capture long-term dependencies and mitigate the vanishing gradient problem often encountered in RNNs.\n",
        "\n",
        "GRU models have gained popularity in various natural language processing (NLP) tasks, such as language translation, sentiment analysis, and text generation. They have also been applied in other domains, including speech recognition, image captioning, and time series forecasting.\n",
        "\n",
        "Overall, the GRU model provides a computationally efficient and effective approach for modeling sequential data by incorporating gating mechanisms that enable better information retention and flow."
      ],
      "metadata": {
        "id": "FLezlFvdzBns"
      }
    }
  ]
}